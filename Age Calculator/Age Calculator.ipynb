{
 "cells": [
  {
   "cell_type": "code",
   "execution_count": 94,
   "id": "e8f8fa71",
   "metadata": {},
   "outputs": [],
   "source": [
    "import datetime as dt\n",
    "import tkinter as tk\n",
    "from PIL import Image,ImageTk\n",
    "import getInput as t\n"
   ]
  },
  {
   "cell_type": "markdown",
   "id": "0cd64add",
   "metadata": {},
   "source": [
    "First intiate the main window and it's size."
   ]
  },
  {
   "cell_type": "code",
   "execution_count": 95,
   "id": "fec85569",
   "metadata": {},
   "outputs": [
    {
     "data": {
      "text/plain": [
       "''"
      ]
     },
     "execution_count": 95,
     "metadata": {},
     "output_type": "execute_result"
    }
   ],
   "source": [
    "window = tk.Tk()\n",
    "window.geometry(\"620x780\")\n",
    "window.title(\"Age caclculator\")"
   ]
  },
  {
   "cell_type": "markdown",
   "id": "e3641859",
   "metadata": {},
   "source": [
    " 2.Creating labels"
   ]
  },
  {
   "cell_type": "code",
   "execution_count": 96,
   "id": "7fbcab9f",
   "metadata": {},
   "outputs": [],
   "source": [
    "name = tk.Label(text = \"Name\")\n",
    "name.grid(column=0,row=1)\n",
    "day = tk.Label(text = \"Day\")\n",
    "day.grid(column=0,row=2)\n",
    "month = tk.Label(text = \"Month\")\n",
    "month.grid(column=0,row=3)\n",
    "year= tk.Label(text = \"Year\")\n",
    "year.grid(column=0,row=4)"
   ]
  },
  {
   "cell_type": "markdown",
   "id": "2961a0a3",
   "metadata": {},
   "source": [
    "3. add the user entry fields"
   ]
  },
  {
   "cell_type": "code",
   "execution_count": 97,
   "id": "de1f7e76",
   "metadata": {},
   "outputs": [],
   "source": [
    "nameEntry = tk.Entry()\n",
    "nameEntry.grid(column=1,row=1)\n",
    "dayEntry = tk.Entry()\n",
    "dayEntry.grid(column=1,row=2)\n",
    "monthEntry = tk.Entry()\n",
    "monthEntry.grid(column=1,row=3)\n",
    "yearEntry = tk.Entry()\n",
    "yearEntry.grid(column=1,row=4)\n"
   ]
  },
  {
   "cell_type": "markdown",
   "id": "a98119a1",
   "metadata": {},
   "source": [
    "4. A function that calcuate the age and get the input from user"
   ]
  },
  {
   "cell_type": "code",
   "execution_count": 98,
   "id": "0f944a31",
   "metadata": {},
   "outputs": [],
   "source": [
    "import datetime as dt\n",
    "def getInput():\n",
    "    #Read user Input\n",
    "    name = nameEntry.get()\n",
    "    Anna = Person(name,dt.date(int(yearEntry.get()),int(monthEntry.get()),int(dayEntry.get())))\n",
    "    #print the final age in text widget\n",
    "    \n",
    "    textArea = tk.Text(master = window, height = 10, width = 25)\n",
    "    textArea.grid(column = 1, row = 6)\n",
    "    \n",
    "    answer = \" Heyy {Anna}!!!. You are {age} years old!!! \".format(Anna=name, age=Anna.age())\n",
    "    textArea.insert(tk.END, answer)\n",
    "    "
   ]
  },
  {
   "cell_type": "markdown",
   "id": "94ee5c1d",
   "metadata": {},
   "source": [
    "5. The main class"
   ]
  },
  {
   "cell_type": "code",
   "execution_count": 99,
   "id": "1cd376e5",
   "metadata": {},
   "outputs": [],
   "source": [
    "class Person:\n",
    "    def __init__(self,name,birthdate):\n",
    "        self.name = name\n",
    "        self.birthdate = birthdate\n",
    "    \n",
    "    def age(self):\n",
    "        today = dt.date.today()\n",
    "        age = today.year - self.birthdate.year\n",
    "        return age"
   ]
  },
  {
   "cell_type": "markdown",
   "id": "89e70557",
   "metadata": {},
   "source": [
    "6. Button to do the opertion "
   ]
  },
  {
   "cell_type": "code",
   "execution_count": 100,
   "id": "5a2449f5",
   "metadata": {},
   "outputs": [],
   "source": [
    "button=tk.Button(window,text=\"Calculate Age\",command=getInput,bg=\"pink\")\n",
    "button.grid(column=1,row=5)"
   ]
  },
  {
   "cell_type": "code",
   "execution_count": 101,
   "id": "49e51a76",
   "metadata": {},
   "outputs": [],
   "source": [
    "window.mainloop()\n"
   ]
  },
  {
   "cell_type": "code",
   "execution_count": null,
   "id": "d236a455",
   "metadata": {},
   "outputs": [],
   "source": []
  }
 ],
 "metadata": {
  "kernelspec": {
   "display_name": "Python 3 (ipykernel)",
   "language": "python",
   "name": "python3"
  },
  "language_info": {
   "codemirror_mode": {
    "name": "ipython",
    "version": 3
   },
   "file_extension": ".py",
   "mimetype": "text/x-python",
   "name": "python",
   "nbconvert_exporter": "python",
   "pygments_lexer": "ipython3",
   "version": "3.9.5"
  }
 },
 "nbformat": 4,
 "nbformat_minor": 5
}
