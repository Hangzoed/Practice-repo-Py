{
 "cells": [
  {
   "cell_type": "code",
   "execution_count": 18,
   "id": "7c0ed66d",
   "metadata": {},
   "outputs": [],
   "source": [
    "test = 0"
   ]
  },
  {
   "cell_type": "code",
   "execution_count": 19,
   "id": "c6092c84",
   "metadata": {},
   "outputs": [],
   "source": [
    "def test1():\n",
    "    global test \n",
    "    test = 2\n",
    "        "
   ]
  },
  {
   "cell_type": "code",
   "execution_count": 20,
   "id": "53eda882",
   "metadata": {},
   "outputs": [
    {
     "name": "stdout",
     "output_type": "stream",
     "text": [
      "2\n"
     ]
    }
   ],
   "source": [
    "test1()\n",
    "print(test)"
   ]
  },
  {
   "cell_type": "code",
   "execution_count": 21,
   "id": "9bbedf18",
   "metadata": {},
   "outputs": [],
   "source": [
    "import tkinter as tk\n",
    "import random\n",
    "\n",
    "\n",
    "\n"
   ]
  },
  {
   "cell_type": "code",
   "execution_count": 22,
   "id": "ef2374cd",
   "metadata": {},
   "outputs": [
    {
     "data": {
      "text/plain": [
       "''"
      ]
     },
     "execution_count": 22,
     "metadata": {},
     "output_type": "execute_result"
    }
   ],
   "source": [
    "window = tk.Tk()\n",
    "window.geometry(\"620x780\")\n"
   ]
  },
  {
   "cell_type": "code",
   "execution_count": 23,
   "id": "91c2198c",
   "metadata": {},
   "outputs": [],
   "source": [
    "PLAYER_CHOICE = \"\"\n",
    "COMPUTER_CHOICE = \"\"\n",
    "USER_SCORE = 0\n",
    "COMPUTER_SCORE = 0\n"
   ]
  },
  {
   "cell_type": "code",
   "execution_count": null,
   "id": "bf16b46f",
   "metadata": {},
   "outputs": [],
   "source": []
  },
  {
   "cell_type": "code",
   "execution_count": 24,
   "id": "47936c91",
   "metadata": {},
   "outputs": [
    {
     "name": "stdout",
     "output_type": "stream",
     "text": [
      "1\n"
     ]
    }
   ],
   "source": [
    "print(random.randint(1, 3))"
   ]
  },
  {
   "cell_type": "code",
   "execution_count": 25,
   "id": "332c2701",
   "metadata": {},
   "outputs": [],
   "source": [
    "def choice_to_number(choice):\n",
    "    rps = {'rock':0,'paper':1,'scissor':2}\n",
    "    return rps[choice]\n",
    "def number_to_choice(number):\n",
    "    rps={0:'rock',1:'paper',2:'scissor'}\n",
    "    return rps[number]"
   ]
  },
  {
   "cell_type": "code",
   "execution_count": 26,
   "id": "72798804",
   "metadata": {},
   "outputs": [],
   "source": [
    "def comp():\n",
    "    ran = random.randint(1,3)\n",
    "    \n",
    "    return ran"
   ]
  },
  {
   "cell_type": "code",
   "execution_count": 27,
   "id": "fc69c37a",
   "metadata": {},
   "outputs": [],
   "source": [
    "def computer():\n",
    "    rand = random.randint(1, 9)\n",
    "    return rand"
   ]
  },
  {
   "cell_type": "code",
   "execution_count": 28,
   "id": "1b99d279",
   "metadata": {},
   "outputs": [],
   "source": [
    "def rock():\n",
    "    global  PLAYER_CHOICE\n",
    "    global COMPUTER_CHOICE\n",
    "    PLAYER_CHOICE = 1\n",
    "    COMPUTER_CHOICE = comp()\n",
    "    play_a_game(PLAYER_CHOICE,COMPUTER_CHOICE)"
   ]
  },
  {
   "cell_type": "code",
   "execution_count": 29,
   "id": "70a304e7",
   "metadata": {},
   "outputs": [],
   "source": [
    "def scissor():\n",
    "    global  PLAYER_CHOICE\n",
    "    global COMPUTER_CHOICE\n",
    "    PLAYER_CHOICE = 2\n",
    "    COMPUTER_CHOICE = comp()\n",
    "    play_a_game(PLAYER_CHOICE,COMPUTER_CHOICE)\n",
    "   "
   ]
  },
  {
   "cell_type": "code",
   "execution_count": 30,
   "id": "f417be0d",
   "metadata": {},
   "outputs": [],
   "source": [
    "def paper():\n",
    "    global  PLAYER_CHOCE\n",
    "    global COMPUTER_CHOICE\n",
    "    PLAYER_CHOCE = 3\n",
    "    COMPUTER_CHOICE = comp()\n",
    "    play_a_game(PLAYER_CHOICE,COMPUTER_CHOICE)\n"
   ]
  },
  {
   "cell_type": "code",
   "execution_count": 31,
   "id": "3fdd8279",
   "metadata": {},
   "outputs": [],
   "source": [
    "def play_a_game(player,comp):\n",
    "    global USER_SCORE \n",
    "    global COMPUTER_SCORE\n",
    "    if player == comp:\n",
    "        print(\"tie\")\n",
    "        \n",
    "    elif player == 1 and comp == 2:\n",
    "        USER_SCORE+=1\n",
    "        \n",
    "    elif player == 2 and comp == 3:\n",
    "        USER_SCORE+=1\n",
    "       \n",
    "    elif player == 3 and comp ==1:\n",
    "          USER_SCORE+=1\n",
    "       \n",
    "    else:\n",
    "        \n",
    "        COMPUTER_SCORE+=1\n",
    "    player = number_to_choice(player)\n",
    "    comp = number_to_choice(comp)\n",
    "    text_area = tk.Text(master=window,height=12,width=30,bg=\"#FFFF99\")\n",
    "    text_area.grid(column=0,row=4)\n",
    "    answer = \"Your Choice: {uc} \\nComputer's Choice : {cc} \\n Your Score : {u} \\n Computer Score : {c} \".format(uc=player,cc=comp,u=USER_SCORE,c=COMPUTER_SCORE)    \n",
    "    text_area.insert(tk.END,answer)\n"
   ]
  },
  {
   "cell_type": "code",
   "execution_count": 32,
   "id": "dc9a675b",
   "metadata": {},
   "outputs": [],
   "source": [
    "button=tk.Button(window,text=\"Rock\",command=rock,bg=\"blue\")\n",
    "button.grid(column=0,row=1)"
   ]
  },
  {
   "cell_type": "code",
   "execution_count": 33,
   "id": "d5923734",
   "metadata": {},
   "outputs": [],
   "source": [
    "button=tk.Button(window,text=\"Paper\",command=paper,bg=\"pink\")\n",
    "button.grid(column=0,row=2)\n"
   ]
  },
  {
   "cell_type": "code",
   "execution_count": 34,
   "id": "76a2108f",
   "metadata": {},
   "outputs": [],
   "source": [
    "button=tk.Button(window,text=\"Scissor\",command=scissor,bg=\"green\")\n",
    "button.grid(column=0,row=3)"
   ]
  },
  {
   "cell_type": "code",
   "execution_count": null,
   "id": "2a8fdccb",
   "metadata": {},
   "outputs": [],
   "source": []
  },
  {
   "cell_type": "code",
   "execution_count": 35,
   "id": "087f9374",
   "metadata": {},
   "outputs": [
    {
     "name": "stderr",
     "output_type": "stream",
     "text": [
      "Exception in Tkinter callback\n",
      "Traceback (most recent call last):\n",
      "  File \"c:\\programdata\\miniconda3\\lib\\tkinter\\__init__.py\", line 1892, in __call__\n",
      "    return self.func(*args)\n",
      "  File \"C:\\Users\\hpham\\AppData\\Local\\Temp/ipykernel_10072/2816263635.py\", line 6, in paper\n",
      "    play_a_game(PLAYER_CHOICE,COMPUTER_CHOICE)\n",
      "  File \"C:\\Users\\hpham\\AppData\\Local\\Temp/ipykernel_10072/3063015120.py\", line 19, in play_a_game\n",
      "    player = number_to_choice(player)\n",
      "  File \"C:\\Users\\hpham\\AppData\\Local\\Temp/ipykernel_10072/662764840.py\", line 6, in number_to_choice\n",
      "    return rps[number]\n",
      "KeyError: ''\n"
     ]
    },
    {
     "name": "stdout",
     "output_type": "stream",
     "text": [
      "tie\n"
     ]
    },
    {
     "name": "stderr",
     "output_type": "stream",
     "text": [
      "Exception in Tkinter callback\n",
      "Traceback (most recent call last):\n",
      "  File \"c:\\programdata\\miniconda3\\lib\\tkinter\\__init__.py\", line 1892, in __call__\n",
      "    return self.func(*args)\n",
      "  File \"C:\\Users\\hpham\\AppData\\Local\\Temp/ipykernel_10072/3955508985.py\", line 6, in scissor\n",
      "    play_a_game(PLAYER_CHOICE,COMPUTER_CHOICE)\n",
      "  File \"C:\\Users\\hpham\\AppData\\Local\\Temp/ipykernel_10072/3063015120.py\", line 20, in play_a_game\n",
      "    comp = number_to_choice(comp)\n",
      "  File \"C:\\Users\\hpham\\AppData\\Local\\Temp/ipykernel_10072/662764840.py\", line 6, in number_to_choice\n",
      "    return rps[number]\n",
      "KeyError: 3\n",
      "Exception in Tkinter callback\n",
      "Traceback (most recent call last):\n",
      "  File \"c:\\programdata\\miniconda3\\lib\\tkinter\\__init__.py\", line 1892, in __call__\n",
      "    return self.func(*args)\n",
      "  File \"C:\\Users\\hpham\\AppData\\Local\\Temp/ipykernel_10072/2816263635.py\", line 6, in paper\n",
      "    play_a_game(PLAYER_CHOICE,COMPUTER_CHOICE)\n",
      "  File \"C:\\Users\\hpham\\AppData\\Local\\Temp/ipykernel_10072/3063015120.py\", line 20, in play_a_game\n",
      "    comp = number_to_choice(comp)\n",
      "  File \"C:\\Users\\hpham\\AppData\\Local\\Temp/ipykernel_10072/662764840.py\", line 6, in number_to_choice\n",
      "    return rps[number]\n",
      "KeyError: 3\n",
      "Exception in Tkinter callback\n",
      "Traceback (most recent call last):\n",
      "  File \"c:\\programdata\\miniconda3\\lib\\tkinter\\__init__.py\", line 1892, in __call__\n",
      "    return self.func(*args)\n",
      "  File \"C:\\Users\\hpham\\AppData\\Local\\Temp/ipykernel_10072/686780507.py\", line 6, in rock\n",
      "    play_a_game(PLAYER_CHOICE,COMPUTER_CHOICE)\n",
      "  File \"C:\\Users\\hpham\\AppData\\Local\\Temp/ipykernel_10072/3063015120.py\", line 20, in play_a_game\n",
      "    comp = number_to_choice(comp)\n",
      "  File \"C:\\Users\\hpham\\AppData\\Local\\Temp/ipykernel_10072/662764840.py\", line 6, in number_to_choice\n",
      "    return rps[number]\n",
      "KeyError: 3\n",
      "Exception in Tkinter callback\n",
      "Traceback (most recent call last):\n",
      "  File \"c:\\programdata\\miniconda3\\lib\\tkinter\\__init__.py\", line 1892, in __call__\n",
      "    return self.func(*args)\n",
      "  File \"C:\\Users\\hpham\\AppData\\Local\\Temp/ipykernel_10072/686780507.py\", line 6, in rock\n",
      "    play_a_game(PLAYER_CHOICE,COMPUTER_CHOICE)\n",
      "  File \"C:\\Users\\hpham\\AppData\\Local\\Temp/ipykernel_10072/3063015120.py\", line 20, in play_a_game\n",
      "    comp = number_to_choice(comp)\n",
      "  File \"C:\\Users\\hpham\\AppData\\Local\\Temp/ipykernel_10072/662764840.py\", line 6, in number_to_choice\n",
      "    return rps[number]\n",
      "KeyError: 3\n",
      "Exception in Tkinter callback\n",
      "Traceback (most recent call last):\n",
      "  File \"c:\\programdata\\miniconda3\\lib\\tkinter\\__init__.py\", line 1892, in __call__\n",
      "    return self.func(*args)\n",
      "  File \"C:\\Users\\hpham\\AppData\\Local\\Temp/ipykernel_10072/686780507.py\", line 6, in rock\n",
      "    play_a_game(PLAYER_CHOICE,COMPUTER_CHOICE)\n",
      "  File \"C:\\Users\\hpham\\AppData\\Local\\Temp/ipykernel_10072/3063015120.py\", line 20, in play_a_game\n",
      "    comp = number_to_choice(comp)\n",
      "  File \"C:\\Users\\hpham\\AppData\\Local\\Temp/ipykernel_10072/662764840.py\", line 6, in number_to_choice\n",
      "    return rps[number]\n",
      "KeyError: 3\n"
     ]
    },
    {
     "name": "stdout",
     "output_type": "stream",
     "text": [
      "tie\n",
      "tie\n",
      "tie\n",
      "tie\n"
     ]
    },
    {
     "name": "stderr",
     "output_type": "stream",
     "text": [
      "Exception in Tkinter callback\n",
      "Traceback (most recent call last):\n",
      "  File \"c:\\programdata\\miniconda3\\lib\\tkinter\\__init__.py\", line 1892, in __call__\n",
      "    return self.func(*args)\n",
      "  File \"C:\\Users\\hpham\\AppData\\Local\\Temp/ipykernel_10072/686780507.py\", line 6, in rock\n",
      "    play_a_game(PLAYER_CHOICE,COMPUTER_CHOICE)\n",
      "  File \"C:\\Users\\hpham\\AppData\\Local\\Temp/ipykernel_10072/3063015120.py\", line 20, in play_a_game\n",
      "    comp = number_to_choice(comp)\n",
      "  File \"C:\\Users\\hpham\\AppData\\Local\\Temp/ipykernel_10072/662764840.py\", line 6, in number_to_choice\n",
      "    return rps[number]\n",
      "KeyError: 3\n",
      "Exception in Tkinter callback\n",
      "Traceback (most recent call last):\n",
      "  File \"c:\\programdata\\miniconda3\\lib\\tkinter\\__init__.py\", line 1892, in __call__\n",
      "    return self.func(*args)\n",
      "  File \"C:\\Users\\hpham\\AppData\\Local\\Temp/ipykernel_10072/686780507.py\", line 6, in rock\n",
      "    play_a_game(PLAYER_CHOICE,COMPUTER_CHOICE)\n",
      "  File \"C:\\Users\\hpham\\AppData\\Local\\Temp/ipykernel_10072/3063015120.py\", line 20, in play_a_game\n",
      "    comp = number_to_choice(comp)\n",
      "  File \"C:\\Users\\hpham\\AppData\\Local\\Temp/ipykernel_10072/662764840.py\", line 6, in number_to_choice\n",
      "    return rps[number]\n",
      "KeyError: 3\n"
     ]
    },
    {
     "name": "stdout",
     "output_type": "stream",
     "text": [
      "tie\n"
     ]
    },
    {
     "name": "stderr",
     "output_type": "stream",
     "text": [
      "Exception in Tkinter callback\n",
      "Traceback (most recent call last):\n",
      "  File \"c:\\programdata\\miniconda3\\lib\\tkinter\\__init__.py\", line 1892, in __call__\n",
      "    return self.func(*args)\n",
      "  File \"C:\\Users\\hpham\\AppData\\Local\\Temp/ipykernel_10072/686780507.py\", line 6, in rock\n",
      "    play_a_game(PLAYER_CHOICE,COMPUTER_CHOICE)\n",
      "  File \"C:\\Users\\hpham\\AppData\\Local\\Temp/ipykernel_10072/3063015120.py\", line 20, in play_a_game\n",
      "    comp = number_to_choice(comp)\n",
      "  File \"C:\\Users\\hpham\\AppData\\Local\\Temp/ipykernel_10072/662764840.py\", line 6, in number_to_choice\n",
      "    return rps[number]\n",
      "KeyError: 3\n",
      "Exception in Tkinter callback\n",
      "Traceback (most recent call last):\n",
      "  File \"c:\\programdata\\miniconda3\\lib\\tkinter\\__init__.py\", line 1892, in __call__\n",
      "    return self.func(*args)\n",
      "  File \"C:\\Users\\hpham\\AppData\\Local\\Temp/ipykernel_10072/686780507.py\", line 6, in rock\n",
      "    play_a_game(PLAYER_CHOICE,COMPUTER_CHOICE)\n",
      "  File \"C:\\Users\\hpham\\AppData\\Local\\Temp/ipykernel_10072/3063015120.py\", line 20, in play_a_game\n",
      "    comp = number_to_choice(comp)\n",
      "  File \"C:\\Users\\hpham\\AppData\\Local\\Temp/ipykernel_10072/662764840.py\", line 6, in number_to_choice\n",
      "    return rps[number]\n",
      "KeyError: 3\n"
     ]
    },
    {
     "name": "stdout",
     "output_type": "stream",
     "text": [
      "tie\n",
      "tie\n",
      "tie\n",
      "tie\n"
     ]
    },
    {
     "name": "stderr",
     "output_type": "stream",
     "text": [
      "Exception in Tkinter callback\n",
      "Traceback (most recent call last):\n",
      "  File \"c:\\programdata\\miniconda3\\lib\\tkinter\\__init__.py\", line 1892, in __call__\n",
      "    return self.func(*args)\n",
      "  File \"C:\\Users\\hpham\\AppData\\Local\\Temp/ipykernel_10072/686780507.py\", line 6, in rock\n",
      "    play_a_game(PLAYER_CHOICE,COMPUTER_CHOICE)\n",
      "  File \"C:\\Users\\hpham\\AppData\\Local\\Temp/ipykernel_10072/3063015120.py\", line 20, in play_a_game\n",
      "    comp = number_to_choice(comp)\n",
      "  File \"C:\\Users\\hpham\\AppData\\Local\\Temp/ipykernel_10072/662764840.py\", line 6, in number_to_choice\n",
      "    return rps[number]\n",
      "KeyError: 3\n"
     ]
    },
    {
     "name": "stdout",
     "output_type": "stream",
     "text": [
      "tie\n",
      "tie\n"
     ]
    }
   ],
   "source": [
    "\n",
    "window.mainloop()\n"
   ]
  },
  {
   "cell_type": "code",
   "execution_count": null,
   "id": "877d6b54",
   "metadata": {},
   "outputs": [],
   "source": []
  },
  {
   "cell_type": "code",
   "execution_count": null,
   "id": "02aea0ee",
   "metadata": {},
   "outputs": [],
   "source": []
  },
  {
   "cell_type": "code",
   "execution_count": null,
   "id": "1bf9956c",
   "metadata": {},
   "outputs": [],
   "source": []
  },
  {
   "cell_type": "code",
   "execution_count": null,
   "id": "8380b70f",
   "metadata": {},
   "outputs": [],
   "source": []
  },
  {
   "cell_type": "code",
   "execution_count": null,
   "id": "6af98761",
   "metadata": {},
   "outputs": [],
   "source": []
  },
  {
   "cell_type": "code",
   "execution_count": null,
   "id": "ada23600",
   "metadata": {},
   "outputs": [],
   "source": []
  },
  {
   "cell_type": "code",
   "execution_count": null,
   "id": "cb180a62",
   "metadata": {},
   "outputs": [],
   "source": []
  },
  {
   "cell_type": "code",
   "execution_count": null,
   "id": "9c134faf",
   "metadata": {},
   "outputs": [],
   "source": []
  }
 ],
 "metadata": {
  "kernelspec": {
   "display_name": "Python 3 (ipykernel)",
   "language": "python",
   "name": "python3"
  },
  "language_info": {
   "codemirror_mode": {
    "name": "ipython",
    "version": 3
   },
   "file_extension": ".py",
   "mimetype": "text/x-python",
   "name": "python",
   "nbconvert_exporter": "python",
   "pygments_lexer": "ipython3",
   "version": "3.9.5"
  }
 },
 "nbformat": 4,
 "nbformat_minor": 5
}
